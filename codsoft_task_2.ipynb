{
  "nbformat": 4,
  "nbformat_minor": 0,
  "metadata": {
    "colab": {
      "provenance": [],
      "gpuType": "T4",
      "authorship_tag": "ABX9TyOwfyqHpBtE1h3Zyb0bXLEm",
      "include_colab_link": true
    },
    "kernelspec": {
      "name": "python3",
      "display_name": "Python 3"
    },
    "language_info": {
      "name": "python"
    },
    "accelerator": "GPU"
  },
  "cells": [
    {
      "cell_type": "markdown",
      "metadata": {
        "id": "view-in-github",
        "colab_type": "text"
      },
      "source": [
        "<a href=\"https://colab.research.google.com/github/Manas-Negi/Codsoft_Tasks/blob/main/Customer_Churn_Prediction.ipynb\" target=\"_parent\"><img src=\"https://colab.research.google.com/assets/colab-badge.svg\" alt=\"Open In Colab\"/></a>"
      ]
    },
    {
      "cell_type": "code",
      "execution_count": 4,
      "metadata": {
        "id": "NeCpkLLWxGbV"
      },
      "outputs": [],
      "source": [
        "import numpy as np\n",
        "import pandas as pd\n",
        "from matplotlib import pyplot as plt\n",
        "from sklearn.model_selection import train_test_split\n",
        "from sklearn.preprocessing import StandardScaler\n",
        "import tensorflow\n",
        "from tensorflow import keras\n",
        "# tensorflow library is made for machine learning in general while keras is made specifically for training neural networks\n",
        "from tensorflow.keras import Sequential\n",
        "from tensorflow.keras.layers import Dense"
      ]
    },
    {
      "cell_type": "code",
      "source": [
        "df=pd.read_csv('/content/Churn_Modelling.csv')\n",
        "# reading data from Chrun_Modelling.csv that we upload to colab from local machine"
      ],
      "metadata": {
        "id": "MdFXmiP3C4Zy"
      },
      "execution_count": 5,
      "outputs": []
    },
    {
      "cell_type": "code",
      "source": [
        "df.head()\n",
        "# viewing a small section of the data"
      ],
      "metadata": {
        "colab": {
          "base_uri": "https://localhost:8080/",
          "height": 226
        },
        "id": "6sUkAJpNC5A4",
        "outputId": "b704400c-dd49-4052-dc5b-a55974c62d07"
      },
      "execution_count": 6,
      "outputs": [
        {
          "output_type": "execute_result",
          "data": {
            "text/plain": [
              "   RowNumber  CustomerId   Surname  CreditScore Geography  Gender  Age  \\\n",
              "0          1    15634602  Hargrave          619    France  Female   42   \n",
              "1          2    15647311      Hill          608     Spain  Female   41   \n",
              "2          3    15619304      Onio          502    France  Female   42   \n",
              "3          4    15701354      Boni          699    France  Female   39   \n",
              "4          5    15737888  Mitchell          850     Spain  Female   43   \n",
              "\n",
              "   Tenure    Balance  NumOfProducts  HasCrCard  IsActiveMember  \\\n",
              "0       2       0.00              1          1               1   \n",
              "1       1   83807.86              1          0               1   \n",
              "2       8  159660.80              3          1               0   \n",
              "3       1       0.00              2          0               0   \n",
              "4       2  125510.82              1          1               1   \n",
              "\n",
              "   EstimatedSalary  Exited  \n",
              "0        101348.88       1  \n",
              "1        112542.58       0  \n",
              "2        113931.57       1  \n",
              "3         93826.63       0  \n",
              "4         79084.10       0  "
            ],
            "text/html": [
              "\n",
              "  <div id=\"df-f9704a7a-a6fd-4e3e-9f4a-8f4e255ac857\" class=\"colab-df-container\">\n",
              "    <div>\n",
              "<style scoped>\n",
              "    .dataframe tbody tr th:only-of-type {\n",
              "        vertical-align: middle;\n",
              "    }\n",
              "\n",
              "    .dataframe tbody tr th {\n",
              "        vertical-align: top;\n",
              "    }\n",
              "\n",
              "    .dataframe thead th {\n",
              "        text-align: right;\n",
              "    }\n",
              "</style>\n",
              "<table border=\"1\" class=\"dataframe\">\n",
              "  <thead>\n",
              "    <tr style=\"text-align: right;\">\n",
              "      <th></th>\n",
              "      <th>RowNumber</th>\n",
              "      <th>CustomerId</th>\n",
              "      <th>Surname</th>\n",
              "      <th>CreditScore</th>\n",
              "      <th>Geography</th>\n",
              "      <th>Gender</th>\n",
              "      <th>Age</th>\n",
              "      <th>Tenure</th>\n",
              "      <th>Balance</th>\n",
              "      <th>NumOfProducts</th>\n",
              "      <th>HasCrCard</th>\n",
              "      <th>IsActiveMember</th>\n",
              "      <th>EstimatedSalary</th>\n",
              "      <th>Exited</th>\n",
              "    </tr>\n",
              "  </thead>\n",
              "  <tbody>\n",
              "    <tr>\n",
              "      <th>0</th>\n",
              "      <td>1</td>\n",
              "      <td>15634602</td>\n",
              "      <td>Hargrave</td>\n",
              "      <td>619</td>\n",
              "      <td>France</td>\n",
              "      <td>Female</td>\n",
              "      <td>42</td>\n",
              "      <td>2</td>\n",
              "      <td>0.00</td>\n",
              "      <td>1</td>\n",
              "      <td>1</td>\n",
              "      <td>1</td>\n",
              "      <td>101348.88</td>\n",
              "      <td>1</td>\n",
              "    </tr>\n",
              "    <tr>\n",
              "      <th>1</th>\n",
              "      <td>2</td>\n",
              "      <td>15647311</td>\n",
              "      <td>Hill</td>\n",
              "      <td>608</td>\n",
              "      <td>Spain</td>\n",
              "      <td>Female</td>\n",
              "      <td>41</td>\n",
              "      <td>1</td>\n",
              "      <td>83807.86</td>\n",
              "      <td>1</td>\n",
              "      <td>0</td>\n",
              "      <td>1</td>\n",
              "      <td>112542.58</td>\n",
              "      <td>0</td>\n",
              "    </tr>\n",
              "    <tr>\n",
              "      <th>2</th>\n",
              "      <td>3</td>\n",
              "      <td>15619304</td>\n",
              "      <td>Onio</td>\n",
              "      <td>502</td>\n",
              "      <td>France</td>\n",
              "      <td>Female</td>\n",
              "      <td>42</td>\n",
              "      <td>8</td>\n",
              "      <td>159660.80</td>\n",
              "      <td>3</td>\n",
              "      <td>1</td>\n",
              "      <td>0</td>\n",
              "      <td>113931.57</td>\n",
              "      <td>1</td>\n",
              "    </tr>\n",
              "    <tr>\n",
              "      <th>3</th>\n",
              "      <td>4</td>\n",
              "      <td>15701354</td>\n",
              "      <td>Boni</td>\n",
              "      <td>699</td>\n",
              "      <td>France</td>\n",
              "      <td>Female</td>\n",
              "      <td>39</td>\n",
              "      <td>1</td>\n",
              "      <td>0.00</td>\n",
              "      <td>2</td>\n",
              "      <td>0</td>\n",
              "      <td>0</td>\n",
              "      <td>93826.63</td>\n",
              "      <td>0</td>\n",
              "    </tr>\n",
              "    <tr>\n",
              "      <th>4</th>\n",
              "      <td>5</td>\n",
              "      <td>15737888</td>\n",
              "      <td>Mitchell</td>\n",
              "      <td>850</td>\n",
              "      <td>Spain</td>\n",
              "      <td>Female</td>\n",
              "      <td>43</td>\n",
              "      <td>2</td>\n",
              "      <td>125510.82</td>\n",
              "      <td>1</td>\n",
              "      <td>1</td>\n",
              "      <td>1</td>\n",
              "      <td>79084.10</td>\n",
              "      <td>0</td>\n",
              "    </tr>\n",
              "  </tbody>\n",
              "</table>\n",
              "</div>\n",
              "    <div class=\"colab-df-buttons\">\n",
              "\n",
              "  <div class=\"colab-df-container\">\n",
              "    <button class=\"colab-df-convert\" onclick=\"convertToInteractive('df-f9704a7a-a6fd-4e3e-9f4a-8f4e255ac857')\"\n",
              "            title=\"Convert this dataframe to an interactive table.\"\n",
              "            style=\"display:none;\">\n",
              "\n",
              "  <svg xmlns=\"http://www.w3.org/2000/svg\" height=\"24px\" viewBox=\"0 -960 960 960\">\n",
              "    <path d=\"M120-120v-720h720v720H120Zm60-500h600v-160H180v160Zm220 220h160v-160H400v160Zm0 220h160v-160H400v160ZM180-400h160v-160H180v160Zm440 0h160v-160H620v160ZM180-180h160v-160H180v160Zm440 0h160v-160H620v160Z\"/>\n",
              "  </svg>\n",
              "    </button>\n",
              "\n",
              "  <style>\n",
              "    .colab-df-container {\n",
              "      display:flex;\n",
              "      gap: 12px;\n",
              "    }\n",
              "\n",
              "    .colab-df-convert {\n",
              "      background-color: #E8F0FE;\n",
              "      border: none;\n",
              "      border-radius: 50%;\n",
              "      cursor: pointer;\n",
              "      display: none;\n",
              "      fill: #1967D2;\n",
              "      height: 32px;\n",
              "      padding: 0 0 0 0;\n",
              "      width: 32px;\n",
              "    }\n",
              "\n",
              "    .colab-df-convert:hover {\n",
              "      background-color: #E2EBFA;\n",
              "      box-shadow: 0px 1px 2px rgba(60, 64, 67, 0.3), 0px 1px 3px 1px rgba(60, 64, 67, 0.15);\n",
              "      fill: #174EA6;\n",
              "    }\n",
              "\n",
              "    .colab-df-buttons div {\n",
              "      margin-bottom: 4px;\n",
              "    }\n",
              "\n",
              "    [theme=dark] .colab-df-convert {\n",
              "      background-color: #3B4455;\n",
              "      fill: #D2E3FC;\n",
              "    }\n",
              "\n",
              "    [theme=dark] .colab-df-convert:hover {\n",
              "      background-color: #434B5C;\n",
              "      box-shadow: 0px 1px 3px 1px rgba(0, 0, 0, 0.15);\n",
              "      filter: drop-shadow(0px 1px 2px rgba(0, 0, 0, 0.3));\n",
              "      fill: #FFFFFF;\n",
              "    }\n",
              "  </style>\n",
              "\n",
              "    <script>\n",
              "      const buttonEl =\n",
              "        document.querySelector('#df-f9704a7a-a6fd-4e3e-9f4a-8f4e255ac857 button.colab-df-convert');\n",
              "      buttonEl.style.display =\n",
              "        google.colab.kernel.accessAllowed ? 'block' : 'none';\n",
              "\n",
              "      async function convertToInteractive(key) {\n",
              "        const element = document.querySelector('#df-f9704a7a-a6fd-4e3e-9f4a-8f4e255ac857');\n",
              "        const dataTable =\n",
              "          await google.colab.kernel.invokeFunction('convertToInteractive',\n",
              "                                                    [key], {});\n",
              "        if (!dataTable) return;\n",
              "\n",
              "        const docLinkHtml = 'Like what you see? Visit the ' +\n",
              "          '<a target=\"_blank\" href=https://colab.research.google.com/notebooks/data_table.ipynb>data table notebook</a>'\n",
              "          + ' to learn more about interactive tables.';\n",
              "        element.innerHTML = '';\n",
              "        dataTable['output_type'] = 'display_data';\n",
              "        await google.colab.output.renderOutput(dataTable, element);\n",
              "        const docLink = document.createElement('div');\n",
              "        docLink.innerHTML = docLinkHtml;\n",
              "        element.appendChild(docLink);\n",
              "      }\n",
              "    </script>\n",
              "  </div>\n",
              "\n",
              "\n",
              "<div id=\"df-fca16ac0-99df-4eeb-9a01-352c6657cd5c\">\n",
              "  <button class=\"colab-df-quickchart\" onclick=\"quickchart('df-fca16ac0-99df-4eeb-9a01-352c6657cd5c')\"\n",
              "            title=\"Suggest charts.\"\n",
              "            style=\"display:none;\">\n",
              "\n",
              "<svg xmlns=\"http://www.w3.org/2000/svg\" height=\"24px\"viewBox=\"0 0 24 24\"\n",
              "     width=\"24px\">\n",
              "    <g>\n",
              "        <path d=\"M19 3H5c-1.1 0-2 .9-2 2v14c0 1.1.9 2 2 2h14c1.1 0 2-.9 2-2V5c0-1.1-.9-2-2-2zM9 17H7v-7h2v7zm4 0h-2V7h2v10zm4 0h-2v-4h2v4z\"/>\n",
              "    </g>\n",
              "</svg>\n",
              "  </button>\n",
              "\n",
              "<style>\n",
              "  .colab-df-quickchart {\n",
              "    background-color: #E8F0FE;\n",
              "    border: none;\n",
              "    border-radius: 50%;\n",
              "    cursor: pointer;\n",
              "    display: none;\n",
              "    fill: #1967D2;\n",
              "    height: 32px;\n",
              "    padding: 0 0 0 0;\n",
              "    width: 32px;\n",
              "  }\n",
              "\n",
              "  .colab-df-quickchart:hover {\n",
              "    background-color: #E2EBFA;\n",
              "    box-shadow: 0px 1px 2px rgba(60, 64, 67, 0.3), 0px 1px 3px 1px rgba(60, 64, 67, 0.15);\n",
              "    fill: #174EA6;\n",
              "  }\n",
              "\n",
              "  [theme=dark] .colab-df-quickchart {\n",
              "    background-color: #3B4455;\n",
              "    fill: #D2E3FC;\n",
              "  }\n",
              "\n",
              "  [theme=dark] .colab-df-quickchart:hover {\n",
              "    background-color: #434B5C;\n",
              "    box-shadow: 0px 1px 3px 1px rgba(0, 0, 0, 0.15);\n",
              "    filter: drop-shadow(0px 1px 2px rgba(0, 0, 0, 0.3));\n",
              "    fill: #FFFFFF;\n",
              "  }\n",
              "</style>\n",
              "\n",
              "  <script>\n",
              "    async function quickchart(key) {\n",
              "      const charts = await google.colab.kernel.invokeFunction(\n",
              "          'suggestCharts', [key], {});\n",
              "    }\n",
              "    (() => {\n",
              "      let quickchartButtonEl =\n",
              "        document.querySelector('#df-fca16ac0-99df-4eeb-9a01-352c6657cd5c button');\n",
              "      quickchartButtonEl.style.display =\n",
              "        google.colab.kernel.accessAllowed ? 'block' : 'none';\n",
              "    })();\n",
              "  </script>\n",
              "</div>\n",
              "    </div>\n",
              "  </div>\n"
            ]
          },
          "metadata": {},
          "execution_count": 6
        }
      ]
    },
    {
      "cell_type": "code",
      "source": [
        "df.drop(columns = ['RowNumber','CustomerId','Surname'], inplace= True )\n",
        "df.head()\n",
        "# dropping columns that are not important for us for analysis"
      ],
      "metadata": {
        "colab": {
          "base_uri": "https://localhost:8080/",
          "height": 226
        },
        "id": "zz-RZ6wHDDc4",
        "outputId": "22679223-4805-4da7-eb7c-ba6c4b5d55f7"
      },
      "execution_count": 7,
      "outputs": [
        {
          "output_type": "execute_result",
          "data": {
            "text/plain": [
              "   CreditScore Geography  Gender  Age  Tenure    Balance  NumOfProducts  \\\n",
              "0          619    France  Female   42       2       0.00              1   \n",
              "1          608     Spain  Female   41       1   83807.86              1   \n",
              "2          502    France  Female   42       8  159660.80              3   \n",
              "3          699    France  Female   39       1       0.00              2   \n",
              "4          850     Spain  Female   43       2  125510.82              1   \n",
              "\n",
              "   HasCrCard  IsActiveMember  EstimatedSalary  Exited  \n",
              "0          1               1        101348.88       1  \n",
              "1          0               1        112542.58       0  \n",
              "2          1               0        113931.57       1  \n",
              "3          0               0         93826.63       0  \n",
              "4          1               1         79084.10       0  "
            ],
            "text/html": [
              "\n",
              "  <div id=\"df-708ee8dc-9324-4fcf-81a8-b113cdded17e\" class=\"colab-df-container\">\n",
              "    <div>\n",
              "<style scoped>\n",
              "    .dataframe tbody tr th:only-of-type {\n",
              "        vertical-align: middle;\n",
              "    }\n",
              "\n",
              "    .dataframe tbody tr th {\n",
              "        vertical-align: top;\n",
              "    }\n",
              "\n",
              "    .dataframe thead th {\n",
              "        text-align: right;\n",
              "    }\n",
              "</style>\n",
              "<table border=\"1\" class=\"dataframe\">\n",
              "  <thead>\n",
              "    <tr style=\"text-align: right;\">\n",
              "      <th></th>\n",
              "      <th>CreditScore</th>\n",
              "      <th>Geography</th>\n",
              "      <th>Gender</th>\n",
              "      <th>Age</th>\n",
              "      <th>Tenure</th>\n",
              "      <th>Balance</th>\n",
              "      <th>NumOfProducts</th>\n",
              "      <th>HasCrCard</th>\n",
              "      <th>IsActiveMember</th>\n",
              "      <th>EstimatedSalary</th>\n",
              "      <th>Exited</th>\n",
              "    </tr>\n",
              "  </thead>\n",
              "  <tbody>\n",
              "    <tr>\n",
              "      <th>0</th>\n",
              "      <td>619</td>\n",
              "      <td>France</td>\n",
              "      <td>Female</td>\n",
              "      <td>42</td>\n",
              "      <td>2</td>\n",
              "      <td>0.00</td>\n",
              "      <td>1</td>\n",
              "      <td>1</td>\n",
              "      <td>1</td>\n",
              "      <td>101348.88</td>\n",
              "      <td>1</td>\n",
              "    </tr>\n",
              "    <tr>\n",
              "      <th>1</th>\n",
              "      <td>608</td>\n",
              "      <td>Spain</td>\n",
              "      <td>Female</td>\n",
              "      <td>41</td>\n",
              "      <td>1</td>\n",
              "      <td>83807.86</td>\n",
              "      <td>1</td>\n",
              "      <td>0</td>\n",
              "      <td>1</td>\n",
              "      <td>112542.58</td>\n",
              "      <td>0</td>\n",
              "    </tr>\n",
              "    <tr>\n",
              "      <th>2</th>\n",
              "      <td>502</td>\n",
              "      <td>France</td>\n",
              "      <td>Female</td>\n",
              "      <td>42</td>\n",
              "      <td>8</td>\n",
              "      <td>159660.80</td>\n",
              "      <td>3</td>\n",
              "      <td>1</td>\n",
              "      <td>0</td>\n",
              "      <td>113931.57</td>\n",
              "      <td>1</td>\n",
              "    </tr>\n",
              "    <tr>\n",
              "      <th>3</th>\n",
              "      <td>699</td>\n",
              "      <td>France</td>\n",
              "      <td>Female</td>\n",
              "      <td>39</td>\n",
              "      <td>1</td>\n",
              "      <td>0.00</td>\n",
              "      <td>2</td>\n",
              "      <td>0</td>\n",
              "      <td>0</td>\n",
              "      <td>93826.63</td>\n",
              "      <td>0</td>\n",
              "    </tr>\n",
              "    <tr>\n",
              "      <th>4</th>\n",
              "      <td>850</td>\n",
              "      <td>Spain</td>\n",
              "      <td>Female</td>\n",
              "      <td>43</td>\n",
              "      <td>2</td>\n",
              "      <td>125510.82</td>\n",
              "      <td>1</td>\n",
              "      <td>1</td>\n",
              "      <td>1</td>\n",
              "      <td>79084.10</td>\n",
              "      <td>0</td>\n",
              "    </tr>\n",
              "  </tbody>\n",
              "</table>\n",
              "</div>\n",
              "    <div class=\"colab-df-buttons\">\n",
              "\n",
              "  <div class=\"colab-df-container\">\n",
              "    <button class=\"colab-df-convert\" onclick=\"convertToInteractive('df-708ee8dc-9324-4fcf-81a8-b113cdded17e')\"\n",
              "            title=\"Convert this dataframe to an interactive table.\"\n",
              "            style=\"display:none;\">\n",
              "\n",
              "  <svg xmlns=\"http://www.w3.org/2000/svg\" height=\"24px\" viewBox=\"0 -960 960 960\">\n",
              "    <path d=\"M120-120v-720h720v720H120Zm60-500h600v-160H180v160Zm220 220h160v-160H400v160Zm0 220h160v-160H400v160ZM180-400h160v-160H180v160Zm440 0h160v-160H620v160ZM180-180h160v-160H180v160Zm440 0h160v-160H620v160Z\"/>\n",
              "  </svg>\n",
              "    </button>\n",
              "\n",
              "  <style>\n",
              "    .colab-df-container {\n",
              "      display:flex;\n",
              "      gap: 12px;\n",
              "    }\n",
              "\n",
              "    .colab-df-convert {\n",
              "      background-color: #E8F0FE;\n",
              "      border: none;\n",
              "      border-radius: 50%;\n",
              "      cursor: pointer;\n",
              "      display: none;\n",
              "      fill: #1967D2;\n",
              "      height: 32px;\n",
              "      padding: 0 0 0 0;\n",
              "      width: 32px;\n",
              "    }\n",
              "\n",
              "    .colab-df-convert:hover {\n",
              "      background-color: #E2EBFA;\n",
              "      box-shadow: 0px 1px 2px rgba(60, 64, 67, 0.3), 0px 1px 3px 1px rgba(60, 64, 67, 0.15);\n",
              "      fill: #174EA6;\n",
              "    }\n",
              "\n",
              "    .colab-df-buttons div {\n",
              "      margin-bottom: 4px;\n",
              "    }\n",
              "\n",
              "    [theme=dark] .colab-df-convert {\n",
              "      background-color: #3B4455;\n",
              "      fill: #D2E3FC;\n",
              "    }\n",
              "\n",
              "    [theme=dark] .colab-df-convert:hover {\n",
              "      background-color: #434B5C;\n",
              "      box-shadow: 0px 1px 3px 1px rgba(0, 0, 0, 0.15);\n",
              "      filter: drop-shadow(0px 1px 2px rgba(0, 0, 0, 0.3));\n",
              "      fill: #FFFFFF;\n",
              "    }\n",
              "  </style>\n",
              "\n",
              "    <script>\n",
              "      const buttonEl =\n",
              "        document.querySelector('#df-708ee8dc-9324-4fcf-81a8-b113cdded17e button.colab-df-convert');\n",
              "      buttonEl.style.display =\n",
              "        google.colab.kernel.accessAllowed ? 'block' : 'none';\n",
              "\n",
              "      async function convertToInteractive(key) {\n",
              "        const element = document.querySelector('#df-708ee8dc-9324-4fcf-81a8-b113cdded17e');\n",
              "        const dataTable =\n",
              "          await google.colab.kernel.invokeFunction('convertToInteractive',\n",
              "                                                    [key], {});\n",
              "        if (!dataTable) return;\n",
              "\n",
              "        const docLinkHtml = 'Like what you see? Visit the ' +\n",
              "          '<a target=\"_blank\" href=https://colab.research.google.com/notebooks/data_table.ipynb>data table notebook</a>'\n",
              "          + ' to learn more about interactive tables.';\n",
              "        element.innerHTML = '';\n",
              "        dataTable['output_type'] = 'display_data';\n",
              "        await google.colab.output.renderOutput(dataTable, element);\n",
              "        const docLink = document.createElement('div');\n",
              "        docLink.innerHTML = docLinkHtml;\n",
              "        element.appendChild(docLink);\n",
              "      }\n",
              "    </script>\n",
              "  </div>\n",
              "\n",
              "\n",
              "<div id=\"df-66b15a38-a980-40d2-8bcd-da61f28b6c25\">\n",
              "  <button class=\"colab-df-quickchart\" onclick=\"quickchart('df-66b15a38-a980-40d2-8bcd-da61f28b6c25')\"\n",
              "            title=\"Suggest charts.\"\n",
              "            style=\"display:none;\">\n",
              "\n",
              "<svg xmlns=\"http://www.w3.org/2000/svg\" height=\"24px\"viewBox=\"0 0 24 24\"\n",
              "     width=\"24px\">\n",
              "    <g>\n",
              "        <path d=\"M19 3H5c-1.1 0-2 .9-2 2v14c0 1.1.9 2 2 2h14c1.1 0 2-.9 2-2V5c0-1.1-.9-2-2-2zM9 17H7v-7h2v7zm4 0h-2V7h2v10zm4 0h-2v-4h2v4z\"/>\n",
              "    </g>\n",
              "</svg>\n",
              "  </button>\n",
              "\n",
              "<style>\n",
              "  .colab-df-quickchart {\n",
              "    background-color: #E8F0FE;\n",
              "    border: none;\n",
              "    border-radius: 50%;\n",
              "    cursor: pointer;\n",
              "    display: none;\n",
              "    fill: #1967D2;\n",
              "    height: 32px;\n",
              "    padding: 0 0 0 0;\n",
              "    width: 32px;\n",
              "  }\n",
              "\n",
              "  .colab-df-quickchart:hover {\n",
              "    background-color: #E2EBFA;\n",
              "    box-shadow: 0px 1px 2px rgba(60, 64, 67, 0.3), 0px 1px 3px 1px rgba(60, 64, 67, 0.15);\n",
              "    fill: #174EA6;\n",
              "  }\n",
              "\n",
              "  [theme=dark] .colab-df-quickchart {\n",
              "    background-color: #3B4455;\n",
              "    fill: #D2E3FC;\n",
              "  }\n",
              "\n",
              "  [theme=dark] .colab-df-quickchart:hover {\n",
              "    background-color: #434B5C;\n",
              "    box-shadow: 0px 1px 3px 1px rgba(0, 0, 0, 0.15);\n",
              "    filter: drop-shadow(0px 1px 2px rgba(0, 0, 0, 0.3));\n",
              "    fill: #FFFFFF;\n",
              "  }\n",
              "</style>\n",
              "\n",
              "  <script>\n",
              "    async function quickchart(key) {\n",
              "      const charts = await google.colab.kernel.invokeFunction(\n",
              "          'suggestCharts', [key], {});\n",
              "    }\n",
              "    (() => {\n",
              "      let quickchartButtonEl =\n",
              "        document.querySelector('#df-66b15a38-a980-40d2-8bcd-da61f28b6c25 button');\n",
              "      quickchartButtonEl.style.display =\n",
              "        google.colab.kernel.accessAllowed ? 'block' : 'none';\n",
              "    })();\n",
              "  </script>\n",
              "</div>\n",
              "    </div>\n",
              "  </div>\n"
            ]
          },
          "metadata": {},
          "execution_count": 7
        }
      ]
    },
    {
      "cell_type": "code",
      "source": [
        "df.isnull().sum()\n",
        "#checking for missing value fields"
      ],
      "metadata": {
        "colab": {
          "base_uri": "https://localhost:8080/"
        },
        "id": "dd7rMP3hDOrM",
        "outputId": "9128711b-84a0-4396-9c37-1975e447bd1a"
      },
      "execution_count": 8,
      "outputs": [
        {
          "output_type": "execute_result",
          "data": {
            "text/plain": [
              "CreditScore        0\n",
              "Geography          0\n",
              "Gender             0\n",
              "Age                0\n",
              "Tenure             0\n",
              "Balance            0\n",
              "NumOfProducts      0\n",
              "HasCrCard          0\n",
              "IsActiveMember     0\n",
              "EstimatedSalary    0\n",
              "Exited             0\n",
              "dtype: int64"
            ]
          },
          "metadata": {},
          "execution_count": 8
        }
      ]
    },
    {
      "cell_type": "code",
      "source": [
        "df.describe()"
      ],
      "metadata": {
        "colab": {
          "base_uri": "https://localhost:8080/",
          "height": 320
        },
        "id": "95h_06YeDWfv",
        "outputId": "434e3707-d611-4fc3-8c9e-0df9ba547abc"
      },
      "execution_count": 9,
      "outputs": [
        {
          "output_type": "execute_result",
          "data": {
            "text/plain": [
              "        CreditScore           Age        Tenure        Balance  NumOfProducts  \\\n",
              "count  10000.000000  10000.000000  10000.000000   10000.000000   10000.000000   \n",
              "mean     650.528800     38.921800      5.012800   76485.889288       1.530200   \n",
              "std       96.653299     10.487806      2.892174   62397.405202       0.581654   \n",
              "min      350.000000     18.000000      0.000000       0.000000       1.000000   \n",
              "25%      584.000000     32.000000      3.000000       0.000000       1.000000   \n",
              "50%      652.000000     37.000000      5.000000   97198.540000       1.000000   \n",
              "75%      718.000000     44.000000      7.000000  127644.240000       2.000000   \n",
              "max      850.000000     92.000000     10.000000  250898.090000       4.000000   \n",
              "\n",
              "         HasCrCard  IsActiveMember  EstimatedSalary        Exited  \n",
              "count  10000.00000    10000.000000     10000.000000  10000.000000  \n",
              "mean       0.70550        0.515100    100090.239881      0.203700  \n",
              "std        0.45584        0.499797     57510.492818      0.402769  \n",
              "min        0.00000        0.000000        11.580000      0.000000  \n",
              "25%        0.00000        0.000000     51002.110000      0.000000  \n",
              "50%        1.00000        1.000000    100193.915000      0.000000  \n",
              "75%        1.00000        1.000000    149388.247500      0.000000  \n",
              "max        1.00000        1.000000    199992.480000      1.000000  "
            ],
            "text/html": [
              "\n",
              "  <div id=\"df-7c6154e1-a808-41e6-a9d6-f7e20853ba86\" class=\"colab-df-container\">\n",
              "    <div>\n",
              "<style scoped>\n",
              "    .dataframe tbody tr th:only-of-type {\n",
              "        vertical-align: middle;\n",
              "    }\n",
              "\n",
              "    .dataframe tbody tr th {\n",
              "        vertical-align: top;\n",
              "    }\n",
              "\n",
              "    .dataframe thead th {\n",
              "        text-align: right;\n",
              "    }\n",
              "</style>\n",
              "<table border=\"1\" class=\"dataframe\">\n",
              "  <thead>\n",
              "    <tr style=\"text-align: right;\">\n",
              "      <th></th>\n",
              "      <th>CreditScore</th>\n",
              "      <th>Age</th>\n",
              "      <th>Tenure</th>\n",
              "      <th>Balance</th>\n",
              "      <th>NumOfProducts</th>\n",
              "      <th>HasCrCard</th>\n",
              "      <th>IsActiveMember</th>\n",
              "      <th>EstimatedSalary</th>\n",
              "      <th>Exited</th>\n",
              "    </tr>\n",
              "  </thead>\n",
              "  <tbody>\n",
              "    <tr>\n",
              "      <th>count</th>\n",
              "      <td>10000.000000</td>\n",
              "      <td>10000.000000</td>\n",
              "      <td>10000.000000</td>\n",
              "      <td>10000.000000</td>\n",
              "      <td>10000.000000</td>\n",
              "      <td>10000.00000</td>\n",
              "      <td>10000.000000</td>\n",
              "      <td>10000.000000</td>\n",
              "      <td>10000.000000</td>\n",
              "    </tr>\n",
              "    <tr>\n",
              "      <th>mean</th>\n",
              "      <td>650.528800</td>\n",
              "      <td>38.921800</td>\n",
              "      <td>5.012800</td>\n",
              "      <td>76485.889288</td>\n",
              "      <td>1.530200</td>\n",
              "      <td>0.70550</td>\n",
              "      <td>0.515100</td>\n",
              "      <td>100090.239881</td>\n",
              "      <td>0.203700</td>\n",
              "    </tr>\n",
              "    <tr>\n",
              "      <th>std</th>\n",
              "      <td>96.653299</td>\n",
              "      <td>10.487806</td>\n",
              "      <td>2.892174</td>\n",
              "      <td>62397.405202</td>\n",
              "      <td>0.581654</td>\n",
              "      <td>0.45584</td>\n",
              "      <td>0.499797</td>\n",
              "      <td>57510.492818</td>\n",
              "      <td>0.402769</td>\n",
              "    </tr>\n",
              "    <tr>\n",
              "      <th>min</th>\n",
              "      <td>350.000000</td>\n",
              "      <td>18.000000</td>\n",
              "      <td>0.000000</td>\n",
              "      <td>0.000000</td>\n",
              "      <td>1.000000</td>\n",
              "      <td>0.00000</td>\n",
              "      <td>0.000000</td>\n",
              "      <td>11.580000</td>\n",
              "      <td>0.000000</td>\n",
              "    </tr>\n",
              "    <tr>\n",
              "      <th>25%</th>\n",
              "      <td>584.000000</td>\n",
              "      <td>32.000000</td>\n",
              "      <td>3.000000</td>\n",
              "      <td>0.000000</td>\n",
              "      <td>1.000000</td>\n",
              "      <td>0.00000</td>\n",
              "      <td>0.000000</td>\n",
              "      <td>51002.110000</td>\n",
              "      <td>0.000000</td>\n",
              "    </tr>\n",
              "    <tr>\n",
              "      <th>50%</th>\n",
              "      <td>652.000000</td>\n",
              "      <td>37.000000</td>\n",
              "      <td>5.000000</td>\n",
              "      <td>97198.540000</td>\n",
              "      <td>1.000000</td>\n",
              "      <td>1.00000</td>\n",
              "      <td>1.000000</td>\n",
              "      <td>100193.915000</td>\n",
              "      <td>0.000000</td>\n",
              "    </tr>\n",
              "    <tr>\n",
              "      <th>75%</th>\n",
              "      <td>718.000000</td>\n",
              "      <td>44.000000</td>\n",
              "      <td>7.000000</td>\n",
              "      <td>127644.240000</td>\n",
              "      <td>2.000000</td>\n",
              "      <td>1.00000</td>\n",
              "      <td>1.000000</td>\n",
              "      <td>149388.247500</td>\n",
              "      <td>0.000000</td>\n",
              "    </tr>\n",
              "    <tr>\n",
              "      <th>max</th>\n",
              "      <td>850.000000</td>\n",
              "      <td>92.000000</td>\n",
              "      <td>10.000000</td>\n",
              "      <td>250898.090000</td>\n",
              "      <td>4.000000</td>\n",
              "      <td>1.00000</td>\n",
              "      <td>1.000000</td>\n",
              "      <td>199992.480000</td>\n",
              "      <td>1.000000</td>\n",
              "    </tr>\n",
              "  </tbody>\n",
              "</table>\n",
              "</div>\n",
              "    <div class=\"colab-df-buttons\">\n",
              "\n",
              "  <div class=\"colab-df-container\">\n",
              "    <button class=\"colab-df-convert\" onclick=\"convertToInteractive('df-7c6154e1-a808-41e6-a9d6-f7e20853ba86')\"\n",
              "            title=\"Convert this dataframe to an interactive table.\"\n",
              "            style=\"display:none;\">\n",
              "\n",
              "  <svg xmlns=\"http://www.w3.org/2000/svg\" height=\"24px\" viewBox=\"0 -960 960 960\">\n",
              "    <path d=\"M120-120v-720h720v720H120Zm60-500h600v-160H180v160Zm220 220h160v-160H400v160Zm0 220h160v-160H400v160ZM180-400h160v-160H180v160Zm440 0h160v-160H620v160ZM180-180h160v-160H180v160Zm440 0h160v-160H620v160Z\"/>\n",
              "  </svg>\n",
              "    </button>\n",
              "\n",
              "  <style>\n",
              "    .colab-df-container {\n",
              "      display:flex;\n",
              "      gap: 12px;\n",
              "    }\n",
              "\n",
              "    .colab-df-convert {\n",
              "      background-color: #E8F0FE;\n",
              "      border: none;\n",
              "      border-radius: 50%;\n",
              "      cursor: pointer;\n",
              "      display: none;\n",
              "      fill: #1967D2;\n",
              "      height: 32px;\n",
              "      padding: 0 0 0 0;\n",
              "      width: 32px;\n",
              "    }\n",
              "\n",
              "    .colab-df-convert:hover {\n",
              "      background-color: #E2EBFA;\n",
              "      box-shadow: 0px 1px 2px rgba(60, 64, 67, 0.3), 0px 1px 3px 1px rgba(60, 64, 67, 0.15);\n",
              "      fill: #174EA6;\n",
              "    }\n",
              "\n",
              "    .colab-df-buttons div {\n",
              "      margin-bottom: 4px;\n",
              "    }\n",
              "\n",
              "    [theme=dark] .colab-df-convert {\n",
              "      background-color: #3B4455;\n",
              "      fill: #D2E3FC;\n",
              "    }\n",
              "\n",
              "    [theme=dark] .colab-df-convert:hover {\n",
              "      background-color: #434B5C;\n",
              "      box-shadow: 0px 1px 3px 1px rgba(0, 0, 0, 0.15);\n",
              "      filter: drop-shadow(0px 1px 2px rgba(0, 0, 0, 0.3));\n",
              "      fill: #FFFFFF;\n",
              "    }\n",
              "  </style>\n",
              "\n",
              "    <script>\n",
              "      const buttonEl =\n",
              "        document.querySelector('#df-7c6154e1-a808-41e6-a9d6-f7e20853ba86 button.colab-df-convert');\n",
              "      buttonEl.style.display =\n",
              "        google.colab.kernel.accessAllowed ? 'block' : 'none';\n",
              "\n",
              "      async function convertToInteractive(key) {\n",
              "        const element = document.querySelector('#df-7c6154e1-a808-41e6-a9d6-f7e20853ba86');\n",
              "        const dataTable =\n",
              "          await google.colab.kernel.invokeFunction('convertToInteractive',\n",
              "                                                    [key], {});\n",
              "        if (!dataTable) return;\n",
              "\n",
              "        const docLinkHtml = 'Like what you see? Visit the ' +\n",
              "          '<a target=\"_blank\" href=https://colab.research.google.com/notebooks/data_table.ipynb>data table notebook</a>'\n",
              "          + ' to learn more about interactive tables.';\n",
              "        element.innerHTML = '';\n",
              "        dataTable['output_type'] = 'display_data';\n",
              "        await google.colab.output.renderOutput(dataTable, element);\n",
              "        const docLink = document.createElement('div');\n",
              "        docLink.innerHTML = docLinkHtml;\n",
              "        element.appendChild(docLink);\n",
              "      }\n",
              "    </script>\n",
              "  </div>\n",
              "\n",
              "\n",
              "<div id=\"df-5e71f4d9-9226-42e0-a7f3-5ed87eee002f\">\n",
              "  <button class=\"colab-df-quickchart\" onclick=\"quickchart('df-5e71f4d9-9226-42e0-a7f3-5ed87eee002f')\"\n",
              "            title=\"Suggest charts.\"\n",
              "            style=\"display:none;\">\n",
              "\n",
              "<svg xmlns=\"http://www.w3.org/2000/svg\" height=\"24px\"viewBox=\"0 0 24 24\"\n",
              "     width=\"24px\">\n",
              "    <g>\n",
              "        <path d=\"M19 3H5c-1.1 0-2 .9-2 2v14c0 1.1.9 2 2 2h14c1.1 0 2-.9 2-2V5c0-1.1-.9-2-2-2zM9 17H7v-7h2v7zm4 0h-2V7h2v10zm4 0h-2v-4h2v4z\"/>\n",
              "    </g>\n",
              "</svg>\n",
              "  </button>\n",
              "\n",
              "<style>\n",
              "  .colab-df-quickchart {\n",
              "    background-color: #E8F0FE;\n",
              "    border: none;\n",
              "    border-radius: 50%;\n",
              "    cursor: pointer;\n",
              "    display: none;\n",
              "    fill: #1967D2;\n",
              "    height: 32px;\n",
              "    padding: 0 0 0 0;\n",
              "    width: 32px;\n",
              "  }\n",
              "\n",
              "  .colab-df-quickchart:hover {\n",
              "    background-color: #E2EBFA;\n",
              "    box-shadow: 0px 1px 2px rgba(60, 64, 67, 0.3), 0px 1px 3px 1px rgba(60, 64, 67, 0.15);\n",
              "    fill: #174EA6;\n",
              "  }\n",
              "\n",
              "  [theme=dark] .colab-df-quickchart {\n",
              "    background-color: #3B4455;\n",
              "    fill: #D2E3FC;\n",
              "  }\n",
              "\n",
              "  [theme=dark] .colab-df-quickchart:hover {\n",
              "    background-color: #434B5C;\n",
              "    box-shadow: 0px 1px 3px 1px rgba(0, 0, 0, 0.15);\n",
              "    filter: drop-shadow(0px 1px 2px rgba(0, 0, 0, 0.3));\n",
              "    fill: #FFFFFF;\n",
              "  }\n",
              "</style>\n",
              "\n",
              "  <script>\n",
              "    async function quickchart(key) {\n",
              "      const charts = await google.colab.kernel.invokeFunction(\n",
              "          'suggestCharts', [key], {});\n",
              "    }\n",
              "    (() => {\n",
              "      let quickchartButtonEl =\n",
              "        document.querySelector('#df-5e71f4d9-9226-42e0-a7f3-5ed87eee002f button');\n",
              "      quickchartButtonEl.style.display =\n",
              "        google.colab.kernel.accessAllowed ? 'block' : 'none';\n",
              "    })();\n",
              "  </script>\n",
              "</div>\n",
              "    </div>\n",
              "  </div>\n"
            ]
          },
          "metadata": {},
          "execution_count": 9
        }
      ]
    },
    {
      "cell_type": "code",
      "source": [
        "df.info()"
      ],
      "metadata": {
        "colab": {
          "base_uri": "https://localhost:8080/"
        },
        "id": "wrcz6pwpDZPG",
        "outputId": "fa4e5aa9-08b4-4cb0-f90e-eba00ecd1ffc"
      },
      "execution_count": 10,
      "outputs": [
        {
          "output_type": "stream",
          "name": "stdout",
          "text": [
            "<class 'pandas.core.frame.DataFrame'>\n",
            "RangeIndex: 10000 entries, 0 to 9999\n",
            "Data columns (total 11 columns):\n",
            " #   Column           Non-Null Count  Dtype  \n",
            "---  ------           --------------  -----  \n",
            " 0   CreditScore      10000 non-null  int64  \n",
            " 1   Geography        10000 non-null  object \n",
            " 2   Gender           10000 non-null  object \n",
            " 3   Age              10000 non-null  int64  \n",
            " 4   Tenure           10000 non-null  int64  \n",
            " 5   Balance          10000 non-null  float64\n",
            " 6   NumOfProducts    10000 non-null  int64  \n",
            " 7   HasCrCard        10000 non-null  int64  \n",
            " 8   IsActiveMember   10000 non-null  int64  \n",
            " 9   EstimatedSalary  10000 non-null  float64\n",
            " 10  Exited           10000 non-null  int64  \n",
            "dtypes: float64(2), int64(7), object(2)\n",
            "memory usage: 859.5+ KB\n"
          ]
        }
      ]
    },
    {
      "cell_type": "code",
      "source": [
        "df['Geography'].value_counts()"
      ],
      "metadata": {
        "colab": {
          "base_uri": "https://localhost:8080/"
        },
        "id": "emQIvdAPDbBh",
        "outputId": "5a820855-2fd0-4a15-a664-589e28d8ef10"
      },
      "execution_count": 11,
      "outputs": [
        {
          "output_type": "execute_result",
          "data": {
            "text/plain": [
              "France     5014\n",
              "Germany    2509\n",
              "Spain      2477\n",
              "Name: Geography, dtype: int64"
            ]
          },
          "metadata": {},
          "execution_count": 11
        }
      ]
    },
    {
      "cell_type": "code",
      "source": [
        "plt.figure(figsize=(10, 6))\n",
        "df['Geography'].value_counts().plot(kind='bar')\n",
        "plt.xlabel('Country')\n",
        "plt.ylabel('Numbers of Customers')\n",
        "plt.title(\"Comparsion betweeen Countries and Customers\")"
      ],
      "metadata": {
        "colab": {
          "base_uri": "https://localhost:8080/",
          "height": 631
        },
        "id": "boRMr5EJDdSP",
        "outputId": "f58df734-2e83-4854-fd50-3cfb9c4c2b2d"
      },
      "execution_count": 12,
      "outputs": [
        {
          "output_type": "execute_result",
          "data": {
            "text/plain": [
              "Text(0.5, 1.0, 'Comparsion betweeen Countries and Customers')"
            ]
          },
          "metadata": {},
          "execution_count": 12
        },
        {
          "output_type": "display_data",
          "data": {
            "text/plain": [
              "<Figure size 1000x600 with 1 Axes>"
            ],
            "image/png": "[encoded data removed]"
          },
          "metadata": {}
        }
      ]
    },
    {
      "cell_type": "code",
      "source": [
        "plt.figure(figsize=(10, 6))\n",
        "df['Exited'].value_counts().plot(kind='bar')\n",
        "plt.xlabel('Exited or Stayed')\n",
        "plt.ylabel('Numbers of Customers')\n",
        "plt.title(\"Comparsion betweeen Exited and Customers\")"
      ],
      "metadata": {
        "colab": {
          "base_uri": "https://localhost:8080/",
          "height": 576
        },
        "id": "I5FCz2N5DfK5",
        "outputId": "d2a61c1b-bd22-4b18-de6f-6564e4d07356"
      },
      "execution_count": 13,
      "outputs": [
        {
          "output_type": "execute_result",
          "data": {
            "text/plain": [
              "Text(0.5, 1.0, 'Comparsion betweeen Exited and Customers')"
            ]
          },
          "metadata": {},
          "execution_count": 13
        },
        {
          "output_type": "display_data",
          "data": {
            "text/plain": [
              "<Figure size 1000x600 with 1 Axes>"
            ],
            "image/png": "[encoded data removed]"
          },
          "metadata": {}
        }
      ]
    },
    {
      "cell_type": "code",
      "source": [
        "plt.figure(figsize=(10, 6))\n",
        "df['Gender'].value_counts().plot(kind='bar')\n",
        "plt.xlabel('Gender')\n",
        "plt.ylabel('Numbers of Customers')\n",
        "plt.title(\"Comparsion betweeen Genders\")"
      ],
      "metadata": {
        "colab": {
          "base_uri": "https://localhost:8080/",
          "height": 617
        },
        "id": "9dC1-W_iDiuc",
        "outputId": "9525b09c-3ddf-4af0-8225-37fdf4ea9fa2"
      },
      "execution_count": 14,
      "outputs": [
        {
          "output_type": "execute_result",
          "data": {
            "text/plain": [
              "Text(0.5, 1.0, 'Comparsion betweeen Genders')"
            ]
          },
          "metadata": {},
          "execution_count": 14
        },
        {
          "output_type": "display_data",
          "data": {
            "text/plain": [
              "<Figure size 1000x600 with 1 Axes>"
            ],
            "image/png": "[encoded data removed]"
          },
          "metadata": {}
        }
      ]
    },
    {
      "cell_type": "code",
      "source": [
        "df= pd.get_dummies(df, columns= ['Geography', 'Gender'], drop_first=True)\n",
        "# performing one-hot encoding"
      ],
      "metadata": {
        "id": "XGTfOJLhDlwN"
      },
      "execution_count": 15,
      "outputs": []
    },
    {
      "cell_type": "code",
      "source": [
        "X=df.drop(columns=['Exited'])\n",
        "y=df['Exited']\n",
        "# storing the target variable into y after removing it from main dataframe"
      ],
      "metadata": {
        "id": "V7PMnBmRDqX3"
      },
      "execution_count": 16,
      "outputs": []
    },
    {
      "cell_type": "code",
      "source": [
        "X_train, X_test, y_train, y_test = train_test_split(X,y, test_size= 0.25, random_state=3)"
      ],
      "metadata": {
        "id": "XNEWPFHsDtjl"
      },
      "execution_count": 17,
      "outputs": []
    },
    {
      "cell_type": "code",
      "source": [
        "sc=StandardScaler()\n",
        "# creating standard scaler object from StandardScaler class\n",
        "X_train=sc.fit_transform(X_train)\n",
        "# learning mean and standard deviation from X_train for different categories then subtracting the mean and dividing by standard deviation\n",
        "X_test=sc.transform(X_test)\n",
        "# applying the previously learned transformation to test data"
      ],
      "metadata": {
        "id": "nhJjCMKWDx8P"
      },
      "execution_count": 18,
      "outputs": []
    },
    {
      "cell_type": "code",
      "source": [
        "classifier=Sequential()\n",
        "# using a sequential model to build our neural network"
      ],
      "metadata": {
        "id": "hzv8yh_tDz7Q"
      },
      "execution_count": 19,
      "outputs": []
    },
    {
      "cell_type": "code",
      "source": [
        "classifier.add(Dense(6,activation='relu',input_dim=11))\n",
        "classifier.add(Dense(6,activation='relu'))\n",
        "classifier.add(Dense(1,activation='sigmoid'))\n",
        "# these 3 layers define the input layer, output layer and the hidden layer of our neural network"
      ],
      "metadata": {
        "id": "OslZNGrRENBa"
      },
      "execution_count": 20,
      "outputs": []
    },
    {
      "cell_type": "markdown",
      "source": [
        "Input Layer:\n",
        "\n",
        "Dense layer with 6 neurons and ReLU activation.\n",
        "Expects input data with 11 features.\n",
        "Hidden Layer:\n",
        "\n",
        "Dense layer with 6 neurons and ReLU activation.\n",
        "Output Layer:\n",
        "\n",
        "Dense layer with 1 neuron and Sigmoid activation.\n",
        "Produces binary classification probabilities."
      ],
      "metadata": {
        "id": "JSAt7Xj9vBTv"
      }
    },
    {
      "cell_type": "code",
      "source": [
        "classifier.summary()"
      ],
      "metadata": {
        "colab": {
          "base_uri": "https://localhost:8080/"
        },
        "id": "0z4kEe1FENZB",
        "outputId": "83008f62-1e96-49dc-a1a4-7f3daf08d9bc"
      },
      "execution_count": 21,
      "outputs": [
        {
          "output_type": "stream",
          "name": "stdout",
          "text": [
            "Model: \"sequential\"\n",
            "_________________________________________________________________\n",
            " Layer (type)                Output Shape              Param #   \n",
            "=================================================================\n",
            " dense (Dense)               (None, 6)                 72        \n",
            "                                                                 \n",
            " dense_1 (Dense)             (None, 6)                 42        \n",
            "                                                                 \n",
            " dense_2 (Dense)             (None, 1)                 7         \n",
            "                                                                 \n",
            "=================================================================\n",
            "Total params: 121\n",
            "Trainable params: 121\n",
            "Non-trainable params: 0\n",
            "_________________________________________________________________\n"
          ]
        }
      ]
    },
    {
      "cell_type": "code",
      "source": [
        "classifier.compile(optimizer='Adam',loss='binary_crossentropy',metrics=['accuracy'])\n",
        "# compiling the model with the optimizer, loss function and metrics to track accuracy"
      ],
      "metadata": {
        "id": "yONb2d3fEPn0"
      },
      "execution_count": 22,
      "outputs": []
    },
    {
      "cell_type": "code",
      "source": [
        "history = classifier.fit(X_train,y_train,batch_size=10,epochs=100,verbose=1,validation_split=0.25)\n",
        "# training the model using training data and storing information of each epoch in history for analysis"
      ],
      "metadata": {
        "colab": {
          "base_uri": "https://localhost:8080/"
        },
        "id": "WxlKiQeDERqk",
        "outputId": "408a359b-5a57-4e49-ab8d-e8feb3065f0b"
      },
      "execution_count": 23,
      "outputs": [
        {
          "output_type": "stream",
          "name": "stdout",
          "text": [
            "Epoch 1/100\n",
            "563/563 [==============================] - 10s 6ms/step - loss: 0.4977 - accuracy: 0.7927 - val_loss: 0.4424 - val_accuracy: 0.8027\n",
            "Epoch 2/100\n",
            "563/563 [==============================] - 3s 5ms/step - loss: 0.4466 - accuracy: 0.7957 - val_loss: 0.4273 - val_accuracy: 0.8027\n",
            "Epoch 3/100\n",
            "563/563 [==============================] - 2s 4ms/step - loss: 0.4356 - accuracy: 0.7957 - val_loss: 0.4232 - val_accuracy: 0.8027\n",
            "Epoch 4/100\n",
            "563/563 [==============================] - 3s 5ms/step - loss: 0.4307 - accuracy: 0.7957 - val_loss: 0.4216 - val_accuracy: 0.8027\n",
            "Epoch 5/100\n",
            "563/563 [==============================] - 3s 5ms/step - loss: 0.4275 - accuracy: 0.7957 - val_loss: 0.4204 - val_accuracy: 0.8027\n",
            "Epoch 6/100\n",
            "563/563 [==============================] - 3s 5ms/step - loss: 0.4251 - accuracy: 0.7957 - val_loss: 0.4193 - val_accuracy: 0.8027\n",
            "Epoch 7/100\n",
            "563/563 [==============================] - 3s 4ms/step - loss: 0.4228 - accuracy: 0.7957 - val_loss: 0.4189 - val_accuracy: 0.8027\n",
            "Epoch 8/100\n",
            "563/563 [==============================] - 3s 4ms/step - loss: 0.4205 - accuracy: 0.8075 - val_loss: 0.4178 - val_accuracy: 0.8171\n",
            "Epoch 9/100\n",
            "563/563 [==============================] - 3s 5ms/step - loss: 0.4183 - accuracy: 0.8112 - val_loss: 0.4165 - val_accuracy: 0.8144\n",
            "Epoch 10/100\n",
            "563/563 [==============================] - 3s 5ms/step - loss: 0.4161 - accuracy: 0.8132 - val_loss: 0.4158 - val_accuracy: 0.8133\n",
            "Epoch 11/100\n",
            "563/563 [==============================] - 2s 4ms/step - loss: 0.4142 - accuracy: 0.8123 - val_loss: 0.4138 - val_accuracy: 0.8176\n",
            "Epoch 12/100\n",
            "563/563 [==============================] - 3s 4ms/step - loss: 0.4119 - accuracy: 0.8146 - val_loss: 0.4123 - val_accuracy: 0.8197\n",
            "Epoch 13/100\n",
            "563/563 [==============================] - 3s 5ms/step - loss: 0.4089 - accuracy: 0.8149 - val_loss: 0.4097 - val_accuracy: 0.8224\n",
            "Epoch 14/100\n",
            "563/563 [==============================] - 2s 4ms/step - loss: 0.4058 - accuracy: 0.8142 - val_loss: 0.4074 - val_accuracy: 0.8251\n",
            "Epoch 15/100\n",
            "563/563 [==============================] - 3s 5ms/step - loss: 0.4022 - accuracy: 0.8192 - val_loss: 0.4041 - val_accuracy: 0.8304\n",
            "Epoch 16/100\n",
            "563/563 [==============================] - 3s 5ms/step - loss: 0.3985 - accuracy: 0.8224 - val_loss: 0.4009 - val_accuracy: 0.8309\n",
            "Epoch 17/100\n",
            "563/563 [==============================] - 3s 4ms/step - loss: 0.3946 - accuracy: 0.8276 - val_loss: 0.3971 - val_accuracy: 0.8336\n",
            "Epoch 18/100\n",
            "563/563 [==============================] - 2s 4ms/step - loss: 0.3903 - accuracy: 0.8308 - val_loss: 0.3933 - val_accuracy: 0.8331\n",
            "Epoch 19/100\n",
            "563/563 [==============================] - 3s 4ms/step - loss: 0.3849 - accuracy: 0.8359 - val_loss: 0.3880 - val_accuracy: 0.8352\n",
            "Epoch 20/100\n",
            "563/563 [==============================] - 3s 6ms/step - loss: 0.3776 - accuracy: 0.8400 - val_loss: 0.3845 - val_accuracy: 0.8405\n",
            "Epoch 21/100\n",
            "563/563 [==============================] - 3s 4ms/step - loss: 0.3714 - accuracy: 0.8441 - val_loss: 0.3783 - val_accuracy: 0.8459\n",
            "Epoch 22/100\n",
            "563/563 [==============================] - 3s 5ms/step - loss: 0.3643 - accuracy: 0.8466 - val_loss: 0.3744 - val_accuracy: 0.8448\n",
            "Epoch 23/100\n",
            "563/563 [==============================] - 3s 5ms/step - loss: 0.3592 - accuracy: 0.8501 - val_loss: 0.3720 - val_accuracy: 0.8464\n",
            "Epoch 24/100\n",
            "563/563 [==============================] - 3s 6ms/step - loss: 0.3551 - accuracy: 0.8530 - val_loss: 0.3695 - val_accuracy: 0.8555\n",
            "Epoch 25/100\n",
            "563/563 [==============================] - 2s 4ms/step - loss: 0.3522 - accuracy: 0.8533 - val_loss: 0.3662 - val_accuracy: 0.8555\n",
            "Epoch 26/100\n",
            "563/563 [==============================] - 3s 4ms/step - loss: 0.3487 - accuracy: 0.8558 - val_loss: 0.3647 - val_accuracy: 0.8555\n",
            "Epoch 27/100\n",
            "563/563 [==============================] - 2s 4ms/step - loss: 0.3462 - accuracy: 0.8564 - val_loss: 0.3641 - val_accuracy: 0.8555\n",
            "Epoch 28/100\n",
            "563/563 [==============================] - 3s 5ms/step - loss: 0.3439 - accuracy: 0.8588 - val_loss: 0.3635 - val_accuracy: 0.8571\n",
            "Epoch 29/100\n",
            "563/563 [==============================] - 3s 5ms/step - loss: 0.3426 - accuracy: 0.8606 - val_loss: 0.3622 - val_accuracy: 0.8544\n",
            "Epoch 30/100\n",
            "563/563 [==============================] - 3s 4ms/step - loss: 0.3409 - accuracy: 0.8594 - val_loss: 0.3632 - val_accuracy: 0.8565\n",
            "Epoch 31/100\n",
            "563/563 [==============================] - 3s 4ms/step - loss: 0.3396 - accuracy: 0.8617 - val_loss: 0.3636 - val_accuracy: 0.8560\n",
            "Epoch 32/100\n",
            "563/563 [==============================] - 2s 4ms/step - loss: 0.3390 - accuracy: 0.8624 - val_loss: 0.3616 - val_accuracy: 0.8549\n",
            "Epoch 33/100\n",
            "563/563 [==============================] - 3s 5ms/step - loss: 0.3380 - accuracy: 0.8629 - val_loss: 0.3608 - val_accuracy: 0.8544\n",
            "Epoch 34/100\n",
            "563/563 [==============================] - 3s 5ms/step - loss: 0.3371 - accuracy: 0.8628 - val_loss: 0.3618 - val_accuracy: 0.8592\n",
            "Epoch 35/100\n",
            "563/563 [==============================] - 2s 4ms/step - loss: 0.3368 - accuracy: 0.8631 - val_loss: 0.3617 - val_accuracy: 0.8565\n",
            "Epoch 36/100\n",
            "563/563 [==============================] - 2s 4ms/step - loss: 0.3365 - accuracy: 0.8656 - val_loss: 0.3598 - val_accuracy: 0.8581\n",
            "Epoch 37/100\n",
            "563/563 [==============================] - 2s 4ms/step - loss: 0.3356 - accuracy: 0.8652 - val_loss: 0.3588 - val_accuracy: 0.8587\n",
            "Epoch 38/100\n",
            "563/563 [==============================] - 3s 4ms/step - loss: 0.3344 - accuracy: 0.8629 - val_loss: 0.3581 - val_accuracy: 0.8571\n",
            "Epoch 39/100\n",
            "563/563 [==============================] - 3s 5ms/step - loss: 0.3338 - accuracy: 0.8629 - val_loss: 0.3584 - val_accuracy: 0.8587\n",
            "Epoch 40/100\n",
            "563/563 [==============================] - 2s 4ms/step - loss: 0.3328 - accuracy: 0.8636 - val_loss: 0.3591 - val_accuracy: 0.8555\n",
            "Epoch 41/100\n",
            "563/563 [==============================] - 2s 4ms/step - loss: 0.3330 - accuracy: 0.8629 - val_loss: 0.3581 - val_accuracy: 0.8592\n",
            "Epoch 42/100\n",
            "563/563 [==============================] - 3s 4ms/step - loss: 0.3325 - accuracy: 0.8649 - val_loss: 0.3563 - val_accuracy: 0.8603\n",
            "Epoch 43/100\n",
            "563/563 [==============================] - 2s 4ms/step - loss: 0.3318 - accuracy: 0.8626 - val_loss: 0.3549 - val_accuracy: 0.8597\n",
            "Epoch 44/100\n",
            "563/563 [==============================] - 3s 6ms/step - loss: 0.3316 - accuracy: 0.8635 - val_loss: 0.3572 - val_accuracy: 0.8555\n",
            "Epoch 45/100\n",
            "563/563 [==============================] - 2s 4ms/step - loss: 0.3312 - accuracy: 0.8624 - val_loss: 0.3580 - val_accuracy: 0.8555\n",
            "Epoch 46/100\n",
            "563/563 [==============================] - 3s 4ms/step - loss: 0.3307 - accuracy: 0.8651 - val_loss: 0.3565 - val_accuracy: 0.8592\n",
            "Epoch 47/100\n",
            "563/563 [==============================] - 2s 4ms/step - loss: 0.3306 - accuracy: 0.8663 - val_loss: 0.3568 - val_accuracy: 0.8608\n",
            "Epoch 48/100\n",
            "563/563 [==============================] - 3s 5ms/step - loss: 0.3304 - accuracy: 0.8640 - val_loss: 0.3561 - val_accuracy: 0.8597\n",
            "Epoch 49/100\n",
            "563/563 [==============================] - 3s 5ms/step - loss: 0.3303 - accuracy: 0.8652 - val_loss: 0.3556 - val_accuracy: 0.8576\n",
            "Epoch 50/100\n",
            "563/563 [==============================] - 3s 4ms/step - loss: 0.3298 - accuracy: 0.8663 - val_loss: 0.3572 - val_accuracy: 0.8576\n",
            "Epoch 51/100\n",
            "563/563 [==============================] - 3s 4ms/step - loss: 0.3296 - accuracy: 0.8617 - val_loss: 0.3556 - val_accuracy: 0.8608\n",
            "Epoch 52/100\n",
            "563/563 [==============================] - 2s 4ms/step - loss: 0.3289 - accuracy: 0.8667 - val_loss: 0.3587 - val_accuracy: 0.8571\n",
            "Epoch 53/100\n",
            "563/563 [==============================] - 3s 5ms/step - loss: 0.3294 - accuracy: 0.8635 - val_loss: 0.3550 - val_accuracy: 0.8571\n",
            "Epoch 54/100\n",
            "563/563 [==============================] - 3s 5ms/step - loss: 0.3288 - accuracy: 0.8656 - val_loss: 0.3547 - val_accuracy: 0.8587\n",
            "Epoch 55/100\n",
            "563/563 [==============================] - 2s 4ms/step - loss: 0.3284 - accuracy: 0.8668 - val_loss: 0.3559 - val_accuracy: 0.8549\n",
            "Epoch 56/100\n",
            "563/563 [==============================] - 2s 4ms/step - loss: 0.3281 - accuracy: 0.8647 - val_loss: 0.3528 - val_accuracy: 0.8555\n",
            "Epoch 57/100\n",
            "563/563 [==============================] - 3s 4ms/step - loss: 0.3281 - accuracy: 0.8642 - val_loss: 0.3553 - val_accuracy: 0.8597\n",
            "Epoch 58/100\n",
            "563/563 [==============================] - 3s 5ms/step - loss: 0.3281 - accuracy: 0.8642 - val_loss: 0.3538 - val_accuracy: 0.8576\n",
            "Epoch 59/100\n",
            "563/563 [==============================] - 3s 5ms/step - loss: 0.3272 - accuracy: 0.8647 - val_loss: 0.3537 - val_accuracy: 0.8549\n",
            "Epoch 60/100\n",
            "563/563 [==============================] - 3s 5ms/step - loss: 0.3273 - accuracy: 0.8640 - val_loss: 0.3506 - val_accuracy: 0.8635\n",
            "Epoch 61/100\n",
            "563/563 [==============================] - 2s 4ms/step - loss: 0.3277 - accuracy: 0.8683 - val_loss: 0.3548 - val_accuracy: 0.8597\n",
            "Epoch 62/100\n",
            "563/563 [==============================] - 2s 4ms/step - loss: 0.3273 - accuracy: 0.8649 - val_loss: 0.3537 - val_accuracy: 0.8619\n",
            "Epoch 63/100\n",
            "563/563 [==============================] - 3s 5ms/step - loss: 0.3274 - accuracy: 0.8633 - val_loss: 0.3535 - val_accuracy: 0.8608\n",
            "Epoch 64/100\n",
            "563/563 [==============================] - 3s 5ms/step - loss: 0.3267 - accuracy: 0.8645 - val_loss: 0.3544 - val_accuracy: 0.8624\n",
            "Epoch 65/100\n",
            "563/563 [==============================] - 3s 5ms/step - loss: 0.3267 - accuracy: 0.8656 - val_loss: 0.3531 - val_accuracy: 0.8603\n",
            "Epoch 66/100\n",
            "563/563 [==============================] - 3s 5ms/step - loss: 0.3257 - accuracy: 0.8670 - val_loss: 0.3551 - val_accuracy: 0.8539\n",
            "Epoch 67/100\n",
            "563/563 [==============================] - 2s 4ms/step - loss: 0.3261 - accuracy: 0.8660 - val_loss: 0.3540 - val_accuracy: 0.8603\n",
            "Epoch 68/100\n",
            "563/563 [==============================] - 3s 5ms/step - loss: 0.3262 - accuracy: 0.8660 - val_loss: 0.3535 - val_accuracy: 0.8581\n",
            "Epoch 69/100\n",
            "563/563 [==============================] - 3s 5ms/step - loss: 0.3260 - accuracy: 0.8651 - val_loss: 0.3527 - val_accuracy: 0.8565\n",
            "Epoch 70/100\n",
            "563/563 [==============================] - 3s 5ms/step - loss: 0.3256 - accuracy: 0.8645 - val_loss: 0.3568 - val_accuracy: 0.8576\n",
            "Epoch 71/100\n",
            "563/563 [==============================] - 2s 4ms/step - loss: 0.3260 - accuracy: 0.8644 - val_loss: 0.3521 - val_accuracy: 0.8597\n",
            "Epoch 72/100\n",
            "563/563 [==============================] - 2s 4ms/step - loss: 0.3255 - accuracy: 0.8644 - val_loss: 0.3527 - val_accuracy: 0.8571\n",
            "Epoch 73/100\n",
            "563/563 [==============================] - 3s 5ms/step - loss: 0.3259 - accuracy: 0.8633 - val_loss: 0.3523 - val_accuracy: 0.8587\n",
            "Epoch 74/100\n",
            "563/563 [==============================] - 3s 5ms/step - loss: 0.3251 - accuracy: 0.8672 - val_loss: 0.3524 - val_accuracy: 0.8592\n",
            "Epoch 75/100\n",
            "563/563 [==============================] - 3s 5ms/step - loss: 0.3252 - accuracy: 0.8647 - val_loss: 0.3507 - val_accuracy: 0.8571\n",
            "Epoch 76/100\n",
            "563/563 [==============================] - 2s 4ms/step - loss: 0.3253 - accuracy: 0.8651 - val_loss: 0.3528 - val_accuracy: 0.8619\n",
            "Epoch 77/100\n",
            "563/563 [==============================] - 3s 4ms/step - loss: 0.3254 - accuracy: 0.8644 - val_loss: 0.3538 - val_accuracy: 0.8571\n",
            "Epoch 78/100\n",
            "563/563 [==============================] - 3s 5ms/step - loss: 0.3254 - accuracy: 0.8654 - val_loss: 0.3509 - val_accuracy: 0.8587\n",
            "Epoch 79/100\n",
            "563/563 [==============================] - 2s 4ms/step - loss: 0.3252 - accuracy: 0.8645 - val_loss: 0.3507 - val_accuracy: 0.8608\n",
            "Epoch 80/100\n",
            "563/563 [==============================] - 3s 5ms/step - loss: 0.3247 - accuracy: 0.8658 - val_loss: 0.3570 - val_accuracy: 0.8555\n",
            "Epoch 81/100\n",
            "563/563 [==============================] - 2s 4ms/step - loss: 0.3252 - accuracy: 0.8644 - val_loss: 0.3534 - val_accuracy: 0.8581\n",
            "Epoch 82/100\n",
            "563/563 [==============================] - 3s 5ms/step - loss: 0.3250 - accuracy: 0.8651 - val_loss: 0.3516 - val_accuracy: 0.8597\n",
            "Epoch 83/100\n",
            "563/563 [==============================] - 3s 6ms/step - loss: 0.3244 - accuracy: 0.8644 - val_loss: 0.3508 - val_accuracy: 0.8597\n",
            "Epoch 84/100\n",
            "563/563 [==============================] - 3s 5ms/step - loss: 0.3240 - accuracy: 0.8656 - val_loss: 0.3528 - val_accuracy: 0.8603\n",
            "Epoch 85/100\n",
            "563/563 [==============================] - 3s 5ms/step - loss: 0.3246 - accuracy: 0.8647 - val_loss: 0.3504 - val_accuracy: 0.8603\n",
            "Epoch 86/100\n",
            "563/563 [==============================] - 3s 5ms/step - loss: 0.3245 - accuracy: 0.8654 - val_loss: 0.3501 - val_accuracy: 0.8603\n",
            "Epoch 87/100\n",
            "563/563 [==============================] - 3s 6ms/step - loss: 0.3242 - accuracy: 0.8645 - val_loss: 0.3504 - val_accuracy: 0.8608\n",
            "Epoch 88/100\n",
            "563/563 [==============================] - 3s 5ms/step - loss: 0.3237 - accuracy: 0.8658 - val_loss: 0.3503 - val_accuracy: 0.8587\n",
            "Epoch 89/100\n",
            "563/563 [==============================] - 2s 4ms/step - loss: 0.3241 - accuracy: 0.8686 - val_loss: 0.3500 - val_accuracy: 0.8581\n",
            "Epoch 90/100\n",
            "563/563 [==============================] - 2s 4ms/step - loss: 0.3240 - accuracy: 0.8638 - val_loss: 0.3550 - val_accuracy: 0.8571\n",
            "Epoch 91/100\n",
            "563/563 [==============================] - 2s 4ms/step - loss: 0.3242 - accuracy: 0.8651 - val_loss: 0.3498 - val_accuracy: 0.8603\n",
            "Epoch 92/100\n",
            "563/563 [==============================] - 3s 5ms/step - loss: 0.3242 - accuracy: 0.8652 - val_loss: 0.3499 - val_accuracy: 0.8608\n",
            "Epoch 93/100\n",
            "563/563 [==============================] - 2s 4ms/step - loss: 0.3227 - accuracy: 0.8645 - val_loss: 0.3541 - val_accuracy: 0.8581\n",
            "Epoch 94/100\n",
            "563/563 [==============================] - 3s 5ms/step - loss: 0.3231 - accuracy: 0.8642 - val_loss: 0.3539 - val_accuracy: 0.8613\n",
            "Epoch 95/100\n",
            "563/563 [==============================] - 2s 4ms/step - loss: 0.3239 - accuracy: 0.8635 - val_loss: 0.3514 - val_accuracy: 0.8581\n",
            "Epoch 96/100\n",
            "563/563 [==============================] - 2s 4ms/step - loss: 0.3237 - accuracy: 0.8656 - val_loss: 0.3527 - val_accuracy: 0.8613\n",
            "Epoch 97/100\n",
            "563/563 [==============================] - 3s 6ms/step - loss: 0.3234 - accuracy: 0.8677 - val_loss: 0.3537 - val_accuracy: 0.8603\n",
            "Epoch 98/100\n",
            "563/563 [==============================] - 3s 5ms/step - loss: 0.3238 - accuracy: 0.8660 - val_loss: 0.3511 - val_accuracy: 0.8608\n",
            "Epoch 99/100\n",
            "563/563 [==============================] - 3s 5ms/step - loss: 0.3237 - accuracy: 0.8668 - val_loss: 0.3521 - val_accuracy: 0.8581\n",
            "Epoch 100/100\n",
            "563/563 [==============================] - 2s 4ms/step - loss: 0.3236 - accuracy: 0.8665 - val_loss: 0.3519 - val_accuracy: 0.8581\n"
          ]
        }
      ]
    },
    {
      "cell_type": "code",
      "source": [
        "y_pred = classifier.predict(X_test)\n",
        "y_pred = (y_pred>0.5)\n",
        "y_pred\n",
        "# predicting probabilities and comparing performance using a threshold of 0.5"
      ],
      "metadata": {
        "colab": {
          "base_uri": "https://localhost:8080/"
        },
        "id": "jlcF1IHPETmy",
        "outputId": "e8760e06-07f6-492e-9370-81bc174f347e"
      },
      "execution_count": 24,
      "outputs": [
        {
          "output_type": "stream",
          "name": "stdout",
          "text": [
            "79/79 [==============================] - 0s 2ms/step\n"
          ]
        },
        {
          "output_type": "execute_result",
          "data": {
            "text/plain": [
              "array([[False],\n",
              "       [False],\n",
              "       [ True],\n",
              "       ...,\n",
              "       [False],\n",
              "       [False],\n",
              "       [False]])"
            ]
          },
          "metadata": {},
          "execution_count": 24
        }
      ]
    },
    {
      "cell_type": "code",
      "source": [
        "from sklearn.metrics import confusion_matrix\n",
        "cf = confusion_matrix(y_test, y_pred)\n",
        "cf\n",
        "# creating a confusion matrix and using it to evaluate performance"
      ],
      "metadata": {
        "colab": {
          "base_uri": "https://localhost:8080/"
        },
        "id": "cY8h7QsOEXuh",
        "outputId": "ad6cf6ab-36ea-451e-9f26-1e78078b85f9"
      },
      "execution_count": 25,
      "outputs": [
        {
          "output_type": "execute_result",
          "data": {
            "text/plain": [
              "array([[1902,   80],\n",
              "       [ 265,  253]])"
            ]
          },
          "metadata": {},
          "execution_count": 25
        }
      ]
    },
    {
      "cell_type": "code",
      "source": [
        "from sklearn.metrics import accuracy_score\n",
        "accuracy_score(y_test,y_pred)\n",
        "# measuring percentage of correct predictions using accuracy score"
      ],
      "metadata": {
        "colab": {
          "base_uri": "https://localhost:8080/"
        },
        "id": "W6Sfh7BSEdOj",
        "outputId": "e2746c80-712d-4857-c6ac-b03d27e117b8"
      },
      "execution_count": 26,
      "outputs": [
        {
          "output_type": "execute_result",
          "data": {
            "text/plain": [
              "0.862"
            ]
          },
          "metadata": {},
          "execution_count": 26
        }
      ]
    },
    {
      "cell_type": "code",
      "source": [
        "plt.plot(history.history['loss'])\n",
        "plt.plot(history.history['val_loss'])\n",
        "# comparing training loss and validation loss for evaluating performance and overfitting"
      ],
      "metadata": {
        "colab": {
          "base_uri": "https://localhost:8080/",
          "height": 447
        },
        "id": "QrVBeePdEfBK",
        "outputId": "300aa1a6-5a3c-451b-ec10-2cda40767c9c"
      },
      "execution_count": 27,
      "outputs": [
        {
          "output_type": "execute_result",
          "data": {
            "text/plain": [
              "[<matplotlib.lines.Line2D at 0x7a3668e87490>]"
            ]
          },
          "metadata": {},
          "execution_count": 27
        },
        {
          "output_type": "display_data",
          "data": {
            "text/plain": [
              "<Figure size 640x480 with 1 Axes>"
            ],
            "image/png": "[encoded data removed]"
          },
          "metadata": {}
        }
      ]
    },
    {
      "cell_type": "code",
      "source": [
        "plt.plot(history.history['accuracy'])\n",
        "plt.plot(history.history['val_accuracy'])\n",
        "# comparing accuracy and validation accuracy"
      ],
      "metadata": {
        "colab": {
          "base_uri": "https://localhost:8080/",
          "height": 447
        },
        "id": "7evynm_hEhk9",
        "outputId": "632397f0-d6a5-445f-d3a9-eedb347d3eb2"
      },
      "execution_count": 28,
      "outputs": [
        {
          "output_type": "execute_result",
          "data": {
            "text/plain": [
              "[<matplotlib.lines.Line2D at 0x7a3668f38be0>]"
            ]
          },
          "metadata": {},
          "execution_count": 28
        },
        {
          "output_type": "display_data",
          "data": {
            "text/plain": [
              "<Figure size 640x480 with 1 Axes>"
            ],
            "image/png": "[encoded data removed]"
          },
          "metadata": {}
        }
      ]
    }
  ]
}
